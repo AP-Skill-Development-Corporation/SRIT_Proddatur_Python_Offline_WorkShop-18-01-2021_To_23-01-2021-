{
 "cells": [
  {
   "cell_type": "markdown",
   "metadata": {},
   "source": [
    "## Files:\n"
   ]
  },
  {
   "cell_type": "code",
   "execution_count": 8,
   "metadata": {},
   "outputs": [
    {
     "data": {
      "text/plain": [
       "<_io.TextIOWrapper name='Files/myfile.txt' mode='r' encoding='cp1252'>"
      ]
     },
     "execution_count": 8,
     "metadata": {},
     "output_type": "execute_result"
    }
   ],
   "source": [
    "path  = 'Files/myfile.txt'\n",
    "fh = open(path)\n",
    "fh"
   ]
  },
  {
   "cell_type": "code",
   "execution_count": 9,
   "metadata": {},
   "outputs": [
    {
     "data": {
      "text/plain": [
       "'hi\\ni am abdul\\ni am from APSSDC'"
      ]
     },
     "execution_count": 9,
     "metadata": {},
     "output_type": "execute_result"
    }
   ],
   "source": [
    "fh.read()"
   ]
  },
  {
   "cell_type": "code",
   "execution_count": 12,
   "metadata": {},
   "outputs": [
    {
     "name": "stdout",
     "output_type": "stream",
     "text": [
      "hi\n",
      "i am abdul\n",
      "i am from APSSDC\n"
     ]
    }
   ],
   "source": [
    "fh = open(path)\n",
    "for line in fh:\n",
    "    print(line.rstrip())\n",
    "fh.close()"
   ]
  },
  {
   "cell_type": "code",
   "execution_count": 14,
   "metadata": {},
   "outputs": [
    {
     "name": "stdout",
     "output_type": "stream",
     "text": [
      "hi\n",
      "i am abdul\n",
      "i am from APSSDC\n"
     ]
    }
   ],
   "source": [
    "with open(path) as fh:\n",
    "    for line in fh:\n",
    "        print(line.rstrip())"
   ]
  },
  {
   "cell_type": "code",
   "execution_count": 16,
   "metadata": {},
   "outputs": [],
   "source": [
    "path = 'Files/myfile1.txt'\n",
    "txt = 'i am from APSSDC'\n",
    "with open(path,'w') as fhand:\n",
    "    fhand.write(txt)\n"
   ]
  },
  {
   "cell_type": "code",
   "execution_count": 18,
   "metadata": {},
   "outputs": [],
   "source": [
    "path = 'Files/myfile1.txt'\n",
    "with open(path,'a') as fh:\n",
    "    fh.write(\"\\nthis is python workshop\")"
   ]
  },
  {
   "cell_type": "code",
   "execution_count": 23,
   "metadata": {},
   "outputs": [
    {
     "name": "stdout",
     "output_type": "stream",
     "text": [
      "Enter Nameabdulla\n",
      "Enter Roll No501\n",
      "Enter mailidabdul@gmail.com\n"
     ]
    }
   ],
   "source": [
    "path = 'Files/Mycontent.txt'\n",
    "name = input(\"Enter Name\")\n",
    "rollno = input(\"Enter Roll No\")\n",
    "mailid= input(\"Enter mailid\")\n",
    "with open(path,'a') as fh:\n",
    "    fh.write(name+\"\\t\"+rollno+\"\\t\"+mailid+\"\\n\")"
   ]
  },
  {
   "cell_type": "code",
   "execution_count": null,
   "metadata": {},
   "outputs": [],
   "source": []
  },
  {
   "cell_type": "code",
   "execution_count": 34,
   "metadata": {},
   "outputs": [],
   "source": [
    "def isNameValid(name):\n",
    "    if re.search(\"^[A-Za-z\\s]{3,30}$\",name):\n",
    "        return True\n",
    "    return False"
   ]
  },
  {
   "cell_type": "code",
   "execution_count": 43,
   "metadata": {},
   "outputs": [],
   "source": [
    "def isNumberValid(number):\n",
    "    if re.search(\"^[6-9][0-9]{9}$\",number):\n",
    "        return True\n",
    "    return False\n"
   ]
  },
  {
   "cell_type": "code",
   "execution_count": 48,
   "metadata": {},
   "outputs": [],
   "source": [
    "def isMailValid(email):\n",
    "    if re.search('^[A-Za-z0-9.]{3,20}@gmail.com$',email):\n",
    "        return True\n",
    "    return False"
   ]
  },
  {
   "cell_type": "code",
   "execution_count": 54,
   "metadata": {},
   "outputs": [
    {
     "name": "stdout",
     "output_type": "stream",
     "text": [
      "Enter Name:raja shaik\n",
      "Enter Mobile Number:7845120369\n",
      "Enter mail Id:raja@gmail.com\n",
      "Contact Saved Successfully\n"
     ]
    }
   ],
   "source": [
    "import re\n",
    "name = input(\"Enter Name:\")\n",
    "mbno = input(\"Enter Mobile Number:\")\n",
    "#isNameValid(name)\n",
    "#isNumberValid(mbno)\n",
    "mailid = input(\"Enter mail Id:\")\n",
    "#isMailValid(mailid)\n",
    "if isNameValid(name) and isNumberValid(mbno) and isMailValid(mailid):\n",
    "    with open('Files/contacts.txt','a') as fh:\n",
    "        fh.write(name+\"\\t\\t\"+mbno+\"\\t\\t\"+mailid+\"\\n\")\n",
    "print(\"Contact Saved Successfully\")"
   ]
  },
  {
   "cell_type": "markdown",
   "metadata": {},
   "source": [
    "### oop's \n",
    "- class \n",
    "` - collection of variables and methods\n",
    "  - class class_name:\n",
    "      variables\n",
    "       methods\n",
    "- object\n",
    "- inheritance"
   ]
  },
  {
   "cell_type": "code",
   "execution_count": 55,
   "metadata": {},
   "outputs": [],
   "source": [
    "class Hi:\n",
    "    a,b=10,20\n",
    "    def display():\n",
    "        print(\"i am from Hi Class\")"
   ]
  },
  {
   "cell_type": "code",
   "execution_count": 56,
   "metadata": {},
   "outputs": [
    {
     "data": {
      "text/plain": [
       "10"
      ]
     },
     "execution_count": 56,
     "metadata": {},
     "output_type": "execute_result"
    }
   ],
   "source": [
    "Hi.a"
   ]
  },
  {
   "cell_type": "code",
   "execution_count": 57,
   "metadata": {},
   "outputs": [
    {
     "name": "stdout",
     "output_type": "stream",
     "text": [
      "i am from Hi Class\n"
     ]
    }
   ],
   "source": [
    "Hi.display()"
   ]
  },
  {
   "cell_type": "code",
   "execution_count": 58,
   "metadata": {},
   "outputs": [],
   "source": [
    "class Math:\n",
    "    def add(n1,n2):\n",
    "        return n1+n2\n",
    "    def sub(n1, n2):\n",
    "        return n1-n2\n",
    "    def mul(n1,n2):\n",
    "        return n1*n2"
   ]
  },
  {
   "cell_type": "code",
   "execution_count": 59,
   "metadata": {},
   "outputs": [
    {
     "data": {
      "text/plain": [
       "39"
      ]
     },
     "execution_count": 59,
     "metadata": {},
     "output_type": "execute_result"
    }
   ],
   "source": [
    "obj = Math\n",
    "obj.add(21,18)"
   ]
  },
  {
   "cell_type": "code",
   "execution_count": 60,
   "metadata": {},
   "outputs": [
    {
     "data": {
      "text/plain": [
       "22"
      ]
     },
     "execution_count": 60,
     "metadata": {},
     "output_type": "execute_result"
    }
   ],
   "source": [
    "obj.sub(34,12)"
   ]
  },
  {
   "cell_type": "code",
   "execution_count": 68,
   "metadata": {},
   "outputs": [],
   "source": [
    "class Math1:\n",
    "    def __init__(self,n1, n2):\n",
    "        self.n1 = n1\n",
    "        self.n2 = n2\n",
    "        print(self.n1,self.n2)\n",
    "    def add(self):\n",
    "        return self.n1 + self.n2"
   ]
  },
  {
   "cell_type": "code",
   "execution_count": 69,
   "metadata": {},
   "outputs": [
    {
     "name": "stdout",
     "output_type": "stream",
     "text": [
      "5 6\n"
     ]
    },
    {
     "data": {
      "text/plain": [
       "11"
      ]
     },
     "execution_count": 69,
     "metadata": {},
     "output_type": "execute_result"
    }
   ],
   "source": [
    "ob = Math1(5,6)\n",
    "ob.add()"
   ]
  },
  {
   "cell_type": "code",
   "execution_count": 79,
   "metadata": {},
   "outputs": [],
   "source": [
    "class Facebook:\n",
    "    def __init__(self,fname, laname, uname, pwd):\n",
    "        self.lname = lname\n",
    "        self.fname = fname\n",
    "        self.uname = uname\n",
    "        self.pwd = pwd\n",
    "        print(\"Registration is done...\")\n",
    "    def profile(self):\n",
    "        self.mailid = input(\"Enter MailId\")\n",
    "        self.phno = input(\"Enter mobile no\")\n",
    "    \n",
    "    def show(self):\n",
    "        print(\"Name: \", self.fname +' '+ self.lname)\n",
    "        print(\"User Name: \",self.uname)\n",
    "        print(\"Email Id:\",self.mailid)"
   ]
  },
  {
   "cell_type": "code",
   "execution_count": 80,
   "metadata": {},
   "outputs": [
    {
     "name": "stdout",
     "output_type": "stream",
     "text": [
      "Enter First Name:sk\n",
      "Enter Last Name:abdul\n",
      "Emnter User Name:abdul123\n",
      "Enter Passwordksdhk\n",
      "Registration is done...\n"
     ]
    }
   ],
   "source": [
    "fname = input(\"Enter First Name:\")\n",
    "lname= input(\"Enter Last Name:\")\n",
    "uname = input(\"Emnter User Name:\")\n",
    "pwd = input(\"Enter Password\")\n",
    "fb = Facebook(fname,lname,uname,pwd)"
   ]
  },
  {
   "cell_type": "code",
   "execution_count": 75,
   "metadata": {},
   "outputs": [
    {
     "name": "stdout",
     "output_type": "stream",
     "text": [
      "Name:  sk abdul\n",
      "User Name:  abdul\n"
     ]
    }
   ],
   "source": [
    "fb.show()"
   ]
  },
  {
   "cell_type": "code",
   "execution_count": 81,
   "metadata": {},
   "outputs": [
    {
     "name": "stdout",
     "output_type": "stream",
     "text": [
      "Enter MailIdabdul@gmail.com\n",
      "Enter mobile no12345678990\n"
     ]
    }
   ],
   "source": [
    "fb.profile()"
   ]
  },
  {
   "cell_type": "code",
   "execution_count": 82,
   "metadata": {},
   "outputs": [
    {
     "name": "stdout",
     "output_type": "stream",
     "text": [
      "Name:  sk abdul\n",
      "User Name:  abdul123\n",
      "Email Id: abdul@gmail.com\n"
     ]
    }
   ],
   "source": [
    "fb.show()"
   ]
  },
  {
   "cell_type": "code",
   "execution_count": null,
   "metadata": {},
   "outputs": [],
   "source": []
  }
 ],
 "metadata": {
  "kernelspec": {
   "display_name": "Python 3",
   "language": "python",
   "name": "python3"
  },
  "language_info": {
   "codemirror_mode": {
    "name": "ipython",
    "version": 3
   },
   "file_extension": ".py",
   "mimetype": "text/x-python",
   "name": "python",
   "nbconvert_exporter": "python",
   "pygments_lexer": "ipython3",
   "version": "3.8.3"
  }
 },
 "nbformat": 4,
 "nbformat_minor": 4
}
